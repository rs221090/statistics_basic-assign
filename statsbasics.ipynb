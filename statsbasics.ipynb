{
 "cells": [
  {
   "cell_type": "markdown",
   "id": "18c8d98e-6882-44d6-891a-e8563a6bc8d2",
   "metadata": {},
   "source": [
    "1. Explain the different types of data (qualitative and quantitative) and provide examples of each. Discuss\n",
    "nominal, ordinal, interval, and ratio scales"
   ]
  },
  {
   "cell_type": "markdown",
   "id": "a7168caf-4ce2-4346-a0e6-1f9b63cc75d8",
   "metadata": {},
   "source": [
    "solution 1\n",
    "QUANTITATIVE DATA --- it is the type of data where data is numerical and used to measure and count something.\n",
    "                    examples - weight,height\n",
    "QUALITATIVE DATA --- it is the type of data where data is non numerical and used to describe and categorize things.\n",
    "                     examples - religion,gender\n",
    "we have four scale of measurement which are nominal,ordinal,interval,ratio scale\n",
    "\n",
    "NOMINAL SCALE -- nominal scale is first level of measurement.it just tag values to character for no specific reason.\n",
    "                 example - we assign \n",
    "                               male -- 0\n",
    "                               female -- 1\n",
    "                               \n",
    "ORDINAL SCALE -- ordinal scale is second level of measurement.ordinal reperesent order here we have pre defined order but not                    able to find difference between two values\n",
    "                 example - ranking of student 1st,2nd,3rd...\n",
    "                 \n",
    "INTERVAL SCALE -- it is the third level of measurement.here we have order also we can find difference but may not have absolute \n",
    "                  zero\n",
    "                  example - height,weight,temperature\n",
    "                  \n",
    "RATIO SCALE -- it is the fourth level of measurement.it has order,can find differencee and also has absolute zero.\n",
    "                 example all examples of interval scale except temperature\n",
    "                 \n",
    "\n"
   ]
  },
  {
   "cell_type": "markdown",
   "id": "9dcf5764",
   "metadata": {},
   "source": [
    "2. What are the measures of central tendency, and when should you use each? Discuss the mean, median,and mode with examples and situations where each is appropriate."
   ]
  },
  {
   "cell_type": "markdown",
   "id": "522d7027",
   "metadata": {},
   "source": [
    "solution 2\n",
    "The central tendency measure is defined as the number used to represent the center or middle of a set of data values. The three commonly used measures of central tendency are the mean, median, and mode\n",
    "The mean (average) of a data set is found by adding all numbers in the data set and then dividing by the number of values in the set.\n",
    "example - marks = [10,10,2,4,5,1,10,4,5,9]\n",
    "mean of marks = (10+10+2+4+5+1+10+4+5+9)/10\n",
    "               =60/10\n",
    "               =6\n",
    "\n",
    "The median is the middle value when a data set is ordered from least to greatest. \n",
    "             median of above marks -- first put them in ascending order\n",
    "             1,2,4,4,5,5,9,10,10,10\n",
    "             10/2 = 5th\n",
    "             (10/2)+1 =6th\n",
    "             median = mean of 5th and sixth term\n",
    "             (5+5)/2 = 5\n",
    "             \n",
    "The mode is the number that occurs most often in a data set.\n",
    "                mode of marks = 10 as it occurs most number of times\n",
    "                \n",
    "when we have very large data set we use mean median mode according to type of data\n",
    "if data has outliers use MEDIAN as MEAN is affected by outliers\n",
    "if data has no outliers Use MEAN or MEDIAN\n",
    "if data is qualitative use MODE"
   ]
  },
  {
   "cell_type": "markdown",
   "id": "ee885683",
   "metadata": {},
   "source": [
    "3. Explain the concept of dispersion. How do variance and standard deviation measure the spread of data?"
   ]
  },
  {
   "cell_type": "markdown",
   "id": "83263218",
   "metadata": {},
   "source": [
    "solution 3\n",
    "Dispersion is a concept that refers to range of potential outcome of variable or the distribution of data around expected value\n",
    "VARIANCE -- variance is the average of squared difference between the data point and mean \n",
    "STANDARD DEVIATION -- standard deviation is the square root of variance\n",
    "\n",
    "small value of variance and standard deviation indicate data is close to expected value\n",
    "larger value ,of variance and standard variation indicates the data is more spread out\n"
   ]
  },
  {
   "cell_type": "markdown",
   "id": "f62c18ce",
   "metadata": {},
   "source": [
    "4. What is a box plot, and what can it tell you about the distribution of data?"
   ]
  },
  {
   "cell_type": "markdown",
   "id": "fbe91719",
   "metadata": {},
   "source": [
    "solution 4\n",
    "A box plot, also known as a box and whisker plot, is a graph that summarizes the distribution of data and shows any outliers\n",
    "A box plot shows the five-number summary of a set of data, including the minimum, lower quartile, median, upper quartile, \n",
    "and maximum. The box covers the interquartile range, which is where 50% of the data is found. \n",
    "The median is the line that splits the box in two. The whiskers are the two lines that extend from the minimum to the lower\n",
    "quartile and from the upper quartile to the maximum. \n",
    "\n",
    "The shape of the boxplot shows how the data is distributed and it also shows any outliers. It is a useful way to compare\n",
    "different sets of data as you can draw more than one boxplot per graph."
   ]
  },
  {
   "cell_type": "markdown",
   "id": "0f024d02",
   "metadata": {},
   "source": [
    "5. Discuss the role of random sampling in making inferences about populations."
   ]
  },
  {
   "cell_type": "markdown",
   "id": "97dd8caa",
   "metadata": {},
   "source": [
    "solution 5\n",
    "Random sampling: A sample is chosen randomly from the population. Every object in the population has an equal chance of \n",
    "    being chosen as part of the sample.\n",
    "by random sampling you can make inferences about a large population by examining a smaller sample.\n",
    "Random sampling plays a key role in making statistical inferences about populations because it helps ensure that the \n",
    "sample is representative of the larger population:\n"
   ]
  },
  {
   "cell_type": "markdown",
   "id": "34821806",
   "metadata": {},
   "source": [
    "6 Explain the concept of skewness and its types. How does skewness affect the interpretation of data?"
   ]
  },
  {
   "cell_type": "markdown",
   "id": "82ab2461",
   "metadata": {},
   "source": [
    "solution 6\n",
    "Skewness is a measure of how asymmetric a data distribution is, or how much one tail of a distribution stretches\n",
    "further from the center than the other. Skewness can be positive, negative, or zero, and it can affect the interpretation of data in several ways: \n",
    "Skewness types\n",
    "There are three types of skewness: \n",
    "Positive skew: Also called right skew, this means the distribution is longer on the right side of its peak than on its left. \n",
    "Negative skew: Also called left skew, this means the distribution is longer on the left side of its peak than on its right. \n",
    "Zero skew: This means the distribution is symmetrical and its left and right sides are mirror images. \n",
    "In a skewed distribution, the mean and median are different values. In a positively skewed distribution,\n",
    "the mean is greater than the median. In a negatively skewed distribution, the mean is less than the median. \n",
    "Outliers\n",
    "Skewness can help identify outliers in the data. Large values of the skewness coefficient indicate\n",
    "the presence of extreme values in the data\n",
    "    "
   ]
  },
  {
   "cell_type": "markdown",
   "id": "827937fb",
   "metadata": {},
   "source": [
    "7. What is the interquartile range (IQR), and how is it used to detect outliers?"
   ]
  },
  {
   "cell_type": "markdown",
   "id": "a5e6ffa6",
   "metadata": {},
   "source": [
    "IQR is the range between the first and the third quartiles namely Q1 and Q3: IQR = Q3 – Q1. \n",
    "    The data points which fall below Q1 – 1.5 IQR or above Q3 + 1.5 IQR are outliers"
   ]
  },
  {
   "cell_type": "markdown",
   "id": "38b36887",
   "metadata": {},
   "source": [
    "8. Discuss the conditions under which the binomial distribution is used."
   ]
  },
  {
   "cell_type": "markdown",
   "id": "dc5885b4",
   "metadata": {},
   "source": [
    "solution 8\n",
    "\n",
    "The binomial distribution is a probability distribution that describes the number of successes in a fixed number of\n",
    "independent trials. The conditions for using the binomial distribution are\n",
    "\n",
    "Fixed number of trials: The number of trials, \\(n\\), is fixed and cannot be altered during the analysis\n",
    "    \n",
    "Independent trials: Each trial is independent of the others\n",
    "    \n",
    "Fixed probability of success: The probability of success p, is the same for each trial. \n",
    "    \n",
    "Two mutually exclusive outcomes: There are only two possible outcomes for each trial,\n",
    "usually called \"success\" or \"failure\""
   ]
  },
  {
   "cell_type": "markdown",
   "id": "8ae91802",
   "metadata": {},
   "source": [
    "9. Explain the properties of the normal distribution and the empirical rule (68-95-99.7 rule)."
   ]
  },
  {
   "cell_type": "markdown",
   "id": "71dbb212",
   "metadata": {},
   "source": [
    "solution 9\n",
    "Here are some properties of a normal distribution:\n",
    "    \n",
    "Symmetrical: The distribution is symmetric around the mean, with half of the values falling below the mean and half above it. \n",
    "\n",
    "Bell-shaped: The distribution curve is bell-shaped.\n",
    "    \n",
    "Mean, median, and mode are equal: The mean, median, and mode are all the same and are located at the peak of the curve.\n",
    "    \n",
    "Standard deviation: The distribution can be described by the mean and the standard deviation. \n",
    "    \n",
    "Empirical rule: A constant proportion of the distance under the curve lies between the mean and a specific number of \n",
    "                standard deviations from the mean. For example, 68.25% of all cases fall within +/- one standard deviation \n",
    "                from the mean. \n",
    "\n",
    "The empirical rule, also known as the 68-95-99.7 rule, is a guideline for how data is distributed in a normal distribution: \n",
    "68%: About 68% of data points fall within one standard deviation of the mean \n",
    "95%: About 95% of data points fall within two standard deviations of the mean \n",
    "99.7%: About 99.7% of data points fall within three standard deviations of the mean \n"
   ]
  },
  {
   "cell_type": "markdown",
   "id": "535d27d2",
   "metadata": {},
   "source": [
    "10. Provide a real-life example of a Poisson process and calculate the probability for a specific event."
   ]
  },
  {
   "cell_type": "markdown",
   "id": "92cf5ad5",
   "metadata": {},
   "source": [
    "solution 10\n",
    "\n",
    "suppose a given company experiences an average of 1 network failure per week. We can use the Poisson distribution calculator\n",
    "to find the probability that the company experiences a certain number of network failures in a given week: \n",
    "    P(X = 0 failures) = 0.36788. P(X = 1 failure) = 0.36788."
   ]
  },
  {
   "cell_type": "markdown",
   "id": "edb9d9a8",
   "metadata": {},
   "source": [
    "11. Explain what a random variable is and differentiate between discrete and continuous random variables."
   ]
  },
  {
   "cell_type": "markdown",
   "id": "655d8f4f",
   "metadata": {},
   "source": [
    "solution 11\n",
    "A random variable is a variable whose value is unknown or a function that assigns values to each of an experiment's outcomes\n",
    "The main difference between discrete and continuous random variables is that discrete random variables can only take on a finite number of values, while continuous random variables can take on any value in a given interval"
   ]
  },
  {
   "cell_type": "markdown",
   "id": "20cce56b",
   "metadata": {},
   "source": [
    "12. Provide an example dataset, calculate both covariance and correlation, and interpret the results."
   ]
  },
  {
   "cell_type": "code",
   "execution_count": 3,
   "id": "9e951d57",
   "metadata": {},
   "outputs": [],
   "source": [
    "import seaborn as sns"
   ]
  },
  {
   "cell_type": "code",
   "execution_count": 7,
   "id": "858a7490",
   "metadata": {},
   "outputs": [],
   "source": [
    "df = sns.load_dataset(\"tips\")"
   ]
  },
  {
   "cell_type": "code",
   "execution_count": 9,
   "id": "236902a6",
   "metadata": {},
   "outputs": [
    {
     "name": "stdout",
     "output_type": "stream",
     "text": [
      "<class 'pandas.core.frame.DataFrame'>\n",
      "RangeIndex: 244 entries, 0 to 243\n",
      "Data columns (total 7 columns):\n",
      " #   Column      Non-Null Count  Dtype   \n",
      "---  ------      --------------  -----   \n",
      " 0   total_bill  244 non-null    float64 \n",
      " 1   tip         244 non-null    float64 \n",
      " 2   sex         244 non-null    category\n",
      " 3   smoker      244 non-null    category\n",
      " 4   day         244 non-null    category\n",
      " 5   time        244 non-null    category\n",
      " 6   size        244 non-null    int64   \n",
      "dtypes: category(4), float64(2), int64(1)\n",
      "memory usage: 7.3 KB\n"
     ]
    }
   ],
   "source": [
    "df.info()"
   ]
  },
  {
   "cell_type": "code",
   "execution_count": 11,
   "id": "8a1e9e19",
   "metadata": {},
   "outputs": [
    {
     "data": {
      "text/html": [
       "<div>\n",
       "<style scoped>\n",
       "    .dataframe tbody tr th:only-of-type {\n",
       "        vertical-align: middle;\n",
       "    }\n",
       "\n",
       "    .dataframe tbody tr th {\n",
       "        vertical-align: top;\n",
       "    }\n",
       "\n",
       "    .dataframe thead th {\n",
       "        text-align: right;\n",
       "    }\n",
       "</style>\n",
       "<table border=\"1\" class=\"dataframe\">\n",
       "  <thead>\n",
       "    <tr style=\"text-align: right;\">\n",
       "      <th></th>\n",
       "      <th>total_bill</th>\n",
       "      <th>tip</th>\n",
       "      <th>size</th>\n",
       "    </tr>\n",
       "  </thead>\n",
       "  <tbody>\n",
       "    <tr>\n",
       "      <th>total_bill</th>\n",
       "      <td>79.252939</td>\n",
       "      <td>8.323502</td>\n",
       "      <td>5.065983</td>\n",
       "    </tr>\n",
       "    <tr>\n",
       "      <th>tip</th>\n",
       "      <td>8.323502</td>\n",
       "      <td>1.914455</td>\n",
       "      <td>0.643906</td>\n",
       "    </tr>\n",
       "    <tr>\n",
       "      <th>size</th>\n",
       "      <td>5.065983</td>\n",
       "      <td>0.643906</td>\n",
       "      <td>0.904591</td>\n",
       "    </tr>\n",
       "  </tbody>\n",
       "</table>\n",
       "</div>"
      ],
      "text/plain": [
       "            total_bill       tip      size\n",
       "total_bill   79.252939  8.323502  5.065983\n",
       "tip           8.323502  1.914455  0.643906\n",
       "size          5.065983  0.643906  0.904591"
      ]
     },
     "execution_count": 11,
     "metadata": {},
     "output_type": "execute_result"
    }
   ],
   "source": [
    "df.cov()"
   ]
  },
  {
   "cell_type": "code",
   "execution_count": 12,
   "id": "b7f5bc10",
   "metadata": {},
   "outputs": [
    {
     "data": {
      "text/html": [
       "<div>\n",
       "<style scoped>\n",
       "    .dataframe tbody tr th:only-of-type {\n",
       "        vertical-align: middle;\n",
       "    }\n",
       "\n",
       "    .dataframe tbody tr th {\n",
       "        vertical-align: top;\n",
       "    }\n",
       "\n",
       "    .dataframe thead th {\n",
       "        text-align: right;\n",
       "    }\n",
       "</style>\n",
       "<table border=\"1\" class=\"dataframe\">\n",
       "  <thead>\n",
       "    <tr style=\"text-align: right;\">\n",
       "      <th></th>\n",
       "      <th>total_bill</th>\n",
       "      <th>tip</th>\n",
       "      <th>size</th>\n",
       "    </tr>\n",
       "  </thead>\n",
       "  <tbody>\n",
       "    <tr>\n",
       "      <th>total_bill</th>\n",
       "      <td>1.000000</td>\n",
       "      <td>0.675734</td>\n",
       "      <td>0.598315</td>\n",
       "    </tr>\n",
       "    <tr>\n",
       "      <th>tip</th>\n",
       "      <td>0.675734</td>\n",
       "      <td>1.000000</td>\n",
       "      <td>0.489299</td>\n",
       "    </tr>\n",
       "    <tr>\n",
       "      <th>size</th>\n",
       "      <td>0.598315</td>\n",
       "      <td>0.489299</td>\n",
       "      <td>1.000000</td>\n",
       "    </tr>\n",
       "  </tbody>\n",
       "</table>\n",
       "</div>"
      ],
      "text/plain": [
       "            total_bill       tip      size\n",
       "total_bill    1.000000  0.675734  0.598315\n",
       "tip           0.675734  1.000000  0.489299\n",
       "size          0.598315  0.489299  1.000000"
      ]
     },
     "execution_count": 12,
     "metadata": {},
     "output_type": "execute_result"
    }
   ],
   "source": [
    "df.corr()   #here we can see tip is more corelated with total bill\n",
    "            #more bill indicates more tip"
   ]
  },
  {
   "cell_type": "code",
   "execution_count": null,
   "id": "5c1121f5",
   "metadata": {},
   "outputs": [],
   "source": []
  }
 ],
 "metadata": {
  "kernelspec": {
   "display_name": "Python 3",
   "language": "python",
   "name": "python3"
  },
  "language_info": {
   "codemirror_mode": {
    "name": "ipython",
    "version": 3
   },
   "file_extension": ".py",
   "mimetype": "text/x-python",
   "name": "python",
   "nbconvert_exporter": "python",
   "pygments_lexer": "ipython3",
   "version": "3.6.4"
  }
 },
 "nbformat": 4,
 "nbformat_minor": 5
}
